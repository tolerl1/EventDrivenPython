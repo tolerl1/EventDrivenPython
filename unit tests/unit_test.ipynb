{
 "cells": [
  {
   "cell_type": "code",
   "execution_count": 38,
   "metadata": {},
   "outputs": [],
   "source": [
    "import json\n",
    "import pandas as pd\n",
    "from datetime import date"
   ]
  },
  {
   "cell_type": "code",
   "execution_count": 39,
   "metadata": {},
   "outputs": [],
   "source": [
    "nyt_csv = 'nyt.csv'\n",
    "jh_csv = 'jh.csv'"
   ]
  },
  {
   "cell_type": "code",
   "execution_count": 44,
   "metadata": {},
   "outputs": [
    {
     "name": "stdout",
     "output_type": "stream",
     "text": [
      "Error reading JH CSV\n",
      "Invalid date field format, field must be in YYYY-MM-DD format\n"
     ]
    }
   ],
   "source": [
    "# test transformations on NYT data\n",
    "try:\n",
    "    nyt_df = pd.read_csv(nyt_csv, \n",
    "                         header=0,names=['Date', 'Cases', 'Deaths'], \n",
    "                         dtype={'Cases': 'Int64', 'Deaths': 'Int64'})\n",
    "except:\n",
    "    print(\"Error reading NYT csv\")\n",
    "try:\n",
    "    nyt_df['Date'] = pd.to_datetime(nyt_df['Date'], format=\"%Y-%m-%d\")\n",
    "    #print(nyt_df)\n",
    "except:\n",
    "    print(\"Invalid date field format, field must be in YYYY-MM-DD format\")\n",
    "\n",
    "# test transformations on JH data\n",
    "try:\n",
    "    jh_df = pd.read_csv(jh_csv,\n",
    "                        usecols=['Date', 'Country/Region', 'Recovered'],\n",
    "                        dtype={'Recovered': 'Int64'},\n",
    "                        encoding='utf8').dropna()\n",
    "except:\n",
    "    print(\"Error reading JH CSV\")\n",
    "try:\n",
    "    jh_df.rename(columns={'Country/Region': 'Country'}, inplace=True)\n",
    "    #print(jh_df)\n",
    "except:\n",
    "    print(\"Error renaming JH country column\")\n",
    "try:\n",
    "    jh_df['Date'] = pd.to_datetime(jh_df['Date'], format=\"%Y-%m-%d\")\n",
    "    #print(jh_df)\n",
    "except:\n",
    "    print(\"Invalid date field format, field must be in YYYY-MM-DD format\")\n",
    "\n",
    "# test filter and join clause\n",
    "try:\n",
    "    jh_us_filter = jh_df[jh_df.Country == 'US']\n",
    "    covid_df = nyt_df.set_index('Date').join(\n",
    "        jh_us_filter.set_index('Date')).dropna()\n",
    "    covid_df.reset_index(inplace=True)\n",
    "    covid_df['Date'] = covid_df['Date'].dt.strftime('%Y-%m-%d')\n",
    "except:\n",
    "    print(\"Error joining data\")"
   ]
  }
 ],
 "metadata": {
  "kernelspec": {
   "display_name": "Python 3",
   "language": "python",
   "name": "python3"
  },
  "language_info": {
   "codemirror_mode": {
    "name": "ipython",
    "version": 3
   },
   "file_extension": ".py",
   "mimetype": "text/x-python",
   "name": "python",
   "nbconvert_exporter": "python",
   "pygments_lexer": "ipython3",
   "version": "3.8.5"
  }
 },
 "nbformat": 4,
 "nbformat_minor": 4
}
