{
 "cells": [
  {
   "cell_type": "code",
   "execution_count": 1,
   "metadata": {},
   "outputs": [],
   "source": [
    "import json\n",
    "import pandas as pd\n",
    "from datetime import date"
   ]
  },
  {
   "cell_type": "code",
   "execution_count": 28,
   "metadata": {},
   "outputs": [],
   "source": [
    "nyt_csv = 'nyt.csv'\n",
    "jh_csv = 'jh.csv'"
   ]
  },
  {
   "cell_type": "code",
   "execution_count": 29,
   "metadata": {},
   "outputs": [
    {
     "name": "stdout",
     "output_type": "stream",
     "text": [
      "         Date Country  Recovered\n",
      "0  2020-01-22      US          0\n",
      "2  2020-01-24      US          0\n",
      "3  2020-01-25      US          0\n",
      "4  2020-01-26      US          0\n",
      "5  2020-01-27    U.S.          0\n",
      "6  2020-01-28      US          0\n",
      "7  2020-01-29      US          0\n",
      "8  2020-01-30      US          0\n",
      "9  2020-01-31      US          0\n",
      "10 2020-02-01      US          0\n",
      "11 2020-02-02      US          0\n",
      "12 2020-02-03      US          0\n",
      "13 2020-02-04      US          0\n",
      "14 2020-02-05      US          0\n",
      "15 2020-02-06      US          0\n",
      "16 2020-02-07      US          0\n",
      "17 2020-02-08      US          0\n",
      "18 2020-02-09      US          3\n",
      "19 2020-02-10      US          3\n",
      "20 2020-02-11      US          3\n",
      "21 2020-02-12      US          3\n",
      "22 2020-02-13      US          3\n",
      "23 2020-02-14      US          3\n",
      "24 2020-02-15      US          3\n",
      "25 2020-02-16      US          3\n",
      "26 2020-02-17      US          3\n",
      "27 2020-02-18      US          3\n",
      "28 2020-02-19      US          3\n",
      "29 2020-02-20      US          3\n",
      "30 2020-02-21      US          5\n",
      "          Date  Cases  Deaths Country  Recovered\n",
      "0   2020-01-22      1       0      US          0\n",
      "1   2020-01-24      2       0      US          0\n",
      "2   2020-01-25      3       0      US          0\n",
      "3   2020-01-26      5       0      US          0\n",
      "4   2020-01-28      5       0      US          0\n",
      "5   2020-01-29      5       0      US          0\n",
      "6   2020-01-30      6       0      US          0\n",
      "7   2020-02-01      8       0      US          0\n",
      "8   2020-02-02     11       0      US          0\n",
      "9   2020-02-03     11       0      US          0\n",
      "10  2020-02-04     11       0      US          0\n",
      "11  2020-02-05     12       0      US          0\n",
      "12  2020-02-06     12       0      US          0\n",
      "13  2020-02-07     12       0      US          0\n",
      "14  2020-02-08     12       0      US          0\n",
      "15  2020-02-09     12       0      US          3\n",
      "16  2020-02-11     13       0      US          3\n",
      "17  2020-02-12     14       0      US          3\n",
      "18  2020-02-13     15       0      US          3\n",
      "19  2020-02-14     15       0      US          3\n",
      "20  2020-02-15     15       0      US          3\n",
      "21  2020-02-16     15       0      US          3\n",
      "22  2020-02-17     25       0      US          3\n"
     ]
    }
   ],
   "source": [
    "# test transformations on NYT data\n",
    "try:\n",
    "    nyt_df = pd.read_csv(nyt_csv, \n",
    "                         header=0,names=['Date', 'Cases', 'Deaths'], \n",
    "                         dtype={'Cases': 'Int64', 'Deaths': 'Int64'}).dropna()\n",
    "    #print(nyt_df)\n",
    "except:\n",
    "     print(\"Error reading NYT csv\")\n",
    "try:\n",
    "    nyt_df['Date'] = pd.to_datetime(nyt_df['Date'], format=\"%Y-%m-%d\")\n",
    "    #print(nyt_df)\n",
    "except:\n",
    "    print(\"Invalid date field format, field must be in YYYY-MM-DD format\")\n",
    "\n",
    "# test transformations on JH data\n",
    "try:\n",
    "    jh_df = pd.read_csv(jh_csv,\n",
    "                        usecols=['Date', 'Country/Region', 'Recovered'],\n",
    "                        dtype={'Recovered': 'Int64'},\n",
    "                        encoding='utf8').dropna()\n",
    "    #print(jh_df)\n",
    "except:\n",
    "    print(\"Error reading JH CSV\")\n",
    "try:\n",
    "    jh_df.rename(columns={'Country/Region': 'Country'}, inplace=True)\n",
    "    #print(jh_df)\n",
    "except:\n",
    "    print(\"Error renaming JH country column\")\n",
    "try:\n",
    "    jh_df['Date'] = pd.to_datetime(jh_df['Date'], format=\"%Y-%m-%d\")\n",
    "    #print(jh_df)\n",
    "except:\n",
    "    print(\"Invalid date field format, field must be in YYYY-MM-DD format\")\n",
    "\n",
    "# test filter and join clause\n",
    "try:\n",
    "    jh_us_filter = jh_df[jh_df.Country == 'US']\n",
    "    covid_df = nyt_df.set_index('Date').join(\n",
    "        jh_us_filter.set_index('Date')).dropna()\n",
    "    covid_df.reset_index(inplace=True)\n",
    "    covid_df['Date'] = covid_df['Date'].dt.strftime('%Y-%m-%d')\n",
    "    #print(covid_df)\n",
    "except:\n",
    "    print(\"Error joining data\")"
   ]
  },
  {
   "cell_type": "code",
   "execution_count": null,
   "metadata": {},
   "outputs": [],
   "source": []
  }
 ],
 "metadata": {
  "kernelspec": {
   "display_name": "Python 3",
   "language": "python",
   "name": "python3"
  },
  "language_info": {
   "codemirror_mode": {
    "name": "ipython",
    "version": 3
   },
   "file_extension": ".py",
   "mimetype": "text/x-python",
   "name": "python",
   "nbconvert_exporter": "python",
   "pygments_lexer": "ipython3",
   "version": "3.8.5"
  }
 },
 "nbformat": 4,
 "nbformat_minor": 4
}
